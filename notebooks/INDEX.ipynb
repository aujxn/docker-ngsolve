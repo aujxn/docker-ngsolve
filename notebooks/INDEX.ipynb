{
 "cells": [
  {
   "cell_type": "markdown",
   "id": "9805a5e9",
   "metadata": {},
   "source": [
    "# Solving PDEs  in Practice\n",
    "\n",
    "####  Jay Gopalakrishnan\n"
   ]
  },
  {
   "cell_type": "markdown",
   "id": "8400d31f",
   "metadata": {},
   "source": [
    "\n",
    "## Notebooks\n",
    "\n",
    "- [Finite differences in one dimension](FiniteDifferences1D.ipynb)\n",
    "- [Finite elements in one dimension](FEM1D.ipynb)\n",
    "- External materials introducing finite elements:\n",
    "    - [Unit 1.1: First NGSolve example (NGSolve iTutorials)](first_example.ipynb) \n",
    "    - [Solving the Poisson equation (Schöberl)](poisson.ipynb) \n",
    "    - [Unit 1.3: Dirichlet boundary conditions (NGSolve iTutorials)](dirichlet.ipynb) "
   ]
  },
  {
   "cell_type": "markdown",
   "id": "83357fcf",
   "metadata": {},
   "source": [
    "# "
   ]
  }
 ],
 "metadata": {
  "kernelspec": {
   "display_name": "Python 3 (ipykernel)",
   "language": "python",
   "name": "python3"
  },
  "language_info": {
   "codemirror_mode": {
    "name": "ipython",
    "version": 3
   },
   "file_extension": ".py",
   "mimetype": "text/x-python",
   "name": "python",
   "nbconvert_exporter": "python",
   "pygments_lexer": "ipython3",
   "version": "3.8.10"
  }
 },
 "nbformat": 4,
 "nbformat_minor": 5
}
